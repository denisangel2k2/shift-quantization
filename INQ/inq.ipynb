{
 "cells": [
  {
   "cell_type": "code",
   "execution_count": 5,
   "metadata": {},
   "outputs": [],
   "source": [
    "import torch\n",
    "import torch.nn as nn\n",
    "import torch.optim as optim\n",
    "from torchvision import datasets, transforms, models\n",
    "from torch.utils.data import DataLoader\n",
    "from tqdm import tqdm\n",
    "import os\n",
    "from inq_sgd import INQSGD\n",
    "from inq_scheduler import INQScheduler, reset_lr_scheduler\n"
   ]
  },
  {
   "cell_type": "code",
   "execution_count": 6,
   "metadata": {},
   "outputs": [],
   "source": [
    "def train_epoch(model, dataloader, optimizer, criterion, device):\n",
    "    model.train()\n",
    "    running_loss = 0.0\n",
    "    correct_predictions = 0\n",
    "    total_samples = 0\n",
    "\n",
    "    for inputs, labels in tqdm(dataloader, desc=\"Training\"):\n",
    "        inputs, labels = inputs.to(device), labels.to(device)\n",
    "\n",
    "        optimizer.zero_grad()\n",
    "        outputs = model(inputs)\n",
    "        loss = criterion(outputs, labels)\n",
    "        loss.backward()\n",
    "        optimizer.step()\n",
    "\n",
    "        running_loss += loss.item() * inputs.size(0)\n",
    "        _, predicted = torch.max(outputs.data, 1)\n",
    "        total_samples += labels.size(0)\n",
    "        correct_predictions += (predicted == labels).sum().item()\n",
    "\n",
    "    epoch_loss = running_loss / total_samples\n",
    "    epoch_acc = correct_predictions / total_samples\n",
    "    return epoch_loss, epoch_acc"
   ]
  },
  {
   "cell_type": "code",
   "execution_count": 7,
   "metadata": {},
   "outputs": [],
   "source": [
    "def evaluate_model(model, dataloader, criterion, device):\n",
    "    model.eval()\n",
    "    running_loss = 0.0\n",
    "    correct_predictions = 0\n",
    "    total_samples = 0\n",
    "\n",
    "    with torch.no_grad():\n",
    "        for inputs, labels in tqdm(dataloader, desc=\"Evaluating\"):\n",
    "            inputs, labels = inputs.to(device), labels.to(device)\n",
    "            outputs = model(inputs)\n",
    "            loss = criterion(outputs, labels)\n",
    "\n",
    "            running_loss += loss.item() * inputs.size(0)\n",
    "            _, predicted = torch.max(outputs.data, 1)\n",
    "            total_samples += labels.size(0)\n",
    "            correct_predictions += (predicted == labels).sum().item()\n",
    "\n",
    "    epoch_loss = running_loss / total_samples\n",
    "    epoch_acc = correct_predictions / total_samples\n",
    "    return epoch_loss, epoch_acc"
   ]
  },
  {
   "cell_type": "code",
   "execution_count": 8,
   "metadata": {},
   "outputs": [],
   "source": [
    "def calculate_effective_bit_width(optimizer, full_precision_bits=32):\n",
    "    total_elements = 0\n",
    "    total_quantized_elements = 0\n",
    "    \n",
    "    for group in optimizer.param_groups:\n",
    "        for idx, p in enumerate(group['params']):\n",
    "            if p.requires_grad and group['Ts'][idx] is not None:\n",
    "                total_elements += p.numel()\n",
    "                # T == 0 means quantized\n",
    "                total_quantized_elements += (group['Ts'][idx] == 0).sum().item()\n",
    "    \n",
    "    if total_elements == 0:\n",
    "        return full_precision_bits # No trainable parameters or all are non-quantizable\n",
    "    \n",
    "    quantized_ratio = total_quantized_elements / total_elements\n",
    "    weight_bits = group.get('weight_bits', full_precision_bits) # Get weight_bits from group, default to full_precision_bits if not set\n",
    "    \n",
    "    effective_bits = (quantized_ratio * weight_bits) + ((1 - quantized_ratio) * full_precision_bits)\n",
    "    return effective_bits"
   ]
  },
  {
   "cell_type": "code",
   "execution_count": 9,
   "metadata": {},
   "outputs": [
    {
     "name": "stdout",
     "output_type": "stream",
     "text": [
      "Using device: cuda\n",
      "\n",
      "--- Initial Evaluation (Full Precision) ---\n"
     ]
    },
    {
     "name": "stderr",
     "output_type": "stream",
     "text": [
      "Evaluating: 100%|██████████| 79/79 [00:16<00:00,  4.90it/s]\n",
      "c:\\Users\\Darian\\anaconda3\\envs\\my_env\\Lib\\site-packages\\torch\\optim\\lr_scheduler.py:182: UserWarning: Detected call of `lr_scheduler.step()` before `optimizer.step()`. In PyTorch 1.1.0 and later, you should call them in the opposite order: `optimizer.step()` before `lr_scheduler.step()`.  Failure to do this will result in PyTorch skipping the first value of the learning rate schedule. See more details at https://pytorch.org/docs/stable/optim.html#how-to-adjust-learning-rate\n",
      "  warnings.warn(\n",
      "c:\\Users\\Darian\\anaconda3\\envs\\my_env\\Lib\\site-packages\\torch\\optim\\lr_scheduler.py:198: UserWarning: The epoch parameter in `scheduler.step()` was not necessary and is being deprecated where possible. Please use `scheduler.step()` to step the scheduler. During the deprecation, if epoch is different from None, the closed form is used instead of the new chainable form, where available. Please open an issue if you are unable to replicate your use case: https://github.com/pytorch/pytorch/issues/new/choose.\n",
      "  warnings.warn(EPOCH_DEPRECATION_WARNING, UserWarning)\n"
     ]
    },
    {
     "name": "stdout",
     "output_type": "stream",
     "text": [
      "Initial Test Loss: 2.4044, Initial Test Acc: 0.1221\n",
      "\n",
      "--- INQ Step 1/3 (Quantizing 50% of weights) ---\n",
      "--- Evaluation after INQ Step 1 Quantization (before fine-tuning) ---\n"
     ]
    },
    {
     "name": "stderr",
     "output_type": "stream",
     "text": [
      "Evaluating: 100%|██████████| 79/79 [00:14<00:00,  5.45it/s]\n"
     ]
    },
    {
     "name": "stdout",
     "output_type": "stream",
     "text": [
      "Test Loss: 2.4997, Test Acc: 0.0892\n",
      "Effective Bit-width after quantization: 18.00 bits\n",
      "--- Fine-tuning for 2 epochs ---\n"
     ]
    },
    {
     "name": "stderr",
     "output_type": "stream",
     "text": [
      "Training: 100%|██████████| 938/938 [03:16<00:00,  4.77it/s]\n",
      "Evaluating: 100%|██████████| 79/79 [00:15<00:00,  5.12it/s]\n"
     ]
    },
    {
     "name": "stdout",
     "output_type": "stream",
     "text": [
      "Epoch 1/2 - Train Loss: 0.0753, Train Acc: 0.9790 | Test Loss: 0.9943, Test Acc: 0.9943\n"
     ]
    },
    {
     "name": "stderr",
     "output_type": "stream",
     "text": [
      "Training: 100%|██████████| 938/938 [03:22<00:00,  4.62it/s]\n",
      "Evaluating: 100%|██████████| 79/79 [00:15<00:00,  5.13it/s]\n"
     ]
    },
    {
     "name": "stdout",
     "output_type": "stream",
     "text": [
      "Epoch 2/2 - Train Loss: 0.0163, Train Acc: 0.9949 | Test Loss: 0.9953, Test Acc: 0.9953\n",
      "--- Evaluation after INQ Step 1 Fine-tuning ---\n"
     ]
    },
    {
     "name": "stderr",
     "output_type": "stream",
     "text": [
      "Evaluating: 100%|██████████| 79/79 [00:15<00:00,  5.12it/s]\n"
     ]
    },
    {
     "name": "stdout",
     "output_type": "stream",
     "text": [
      "Final Test Loss: 0.0147, Final Test Acc: 0.9953\n",
      "\n",
      "--- INQ Step 2/3 (Quantizing 75% of weights) ---\n",
      "--- Evaluation after INQ Step 2 Quantization (before fine-tuning) ---\n"
     ]
    },
    {
     "name": "stderr",
     "output_type": "stream",
     "text": [
      "Evaluating: 100%|██████████| 79/79 [00:15<00:00,  5.23it/s]\n"
     ]
    },
    {
     "name": "stdout",
     "output_type": "stream",
     "text": [
      "Test Loss: 2.4346, Test Acc: 0.1135\n",
      "Effective Bit-width after quantization: 8.57 bits\n",
      "--- Fine-tuning for 2 epochs ---\n"
     ]
    },
    {
     "name": "stderr",
     "output_type": "stream",
     "text": [
      "Training: 100%|██████████| 938/938 [03:17<00:00,  4.75it/s]\n",
      "Evaluating: 100%|██████████| 79/79 [00:15<00:00,  5.24it/s]\n"
     ]
    },
    {
     "name": "stdout",
     "output_type": "stream",
     "text": [
      "Epoch 1/2 - Train Loss: 0.0667, Train Acc: 0.9879 | Test Loss: 0.9934, Test Acc: 0.9934\n"
     ]
    },
    {
     "name": "stderr",
     "output_type": "stream",
     "text": [
      "Training: 100%|██████████| 938/938 [03:19<00:00,  4.71it/s]\n",
      "Evaluating: 100%|██████████| 79/79 [00:15<00:00,  5.22it/s]\n"
     ]
    },
    {
     "name": "stdout",
     "output_type": "stream",
     "text": [
      "Epoch 2/2 - Train Loss: 0.0160, Train Acc: 0.9958 | Test Loss: 0.9948, Test Acc: 0.9948\n",
      "--- Evaluation after INQ Step 2 Fine-tuning ---\n"
     ]
    },
    {
     "name": "stderr",
     "output_type": "stream",
     "text": [
      "Evaluating: 100%|██████████| 79/79 [00:15<00:00,  5.26it/s]\n"
     ]
    },
    {
     "name": "stdout",
     "output_type": "stream",
     "text": [
      "Final Test Loss: 0.0154, Final Test Acc: 0.9948\n",
      "\n",
      "--- INQ Step 3/3 (Quantizing 100% of weights) ---\n",
      "--- Evaluation after INQ Step 3 Quantization (before fine-tuning) ---\n"
     ]
    },
    {
     "name": "stderr",
     "output_type": "stream",
     "text": [
      "Evaluating: 100%|██████████| 79/79 [00:15<00:00,  5.11it/s]\n"
     ]
    },
    {
     "name": "stdout",
     "output_type": "stream",
     "text": [
      "Test Loss: 1.7393, Test Acc: 0.4507\n",
      "Effective Bit-width after quantization: 4.00 bits\n",
      "--- Fine-tuning for 2 epochs ---\n"
     ]
    },
    {
     "name": "stderr",
     "output_type": "stream",
     "text": [
      "Training: 100%|██████████| 938/938 [03:21<00:00,  4.66it/s]\n",
      "Evaluating: 100%|██████████| 79/79 [00:15<00:00,  5.12it/s]\n"
     ]
    },
    {
     "name": "stdout",
     "output_type": "stream",
     "text": [
      "Epoch 1/2 - Train Loss: 1.3034, Train Acc: 0.7147 | Test Loss: 0.7329, Test Acc: 0.7329\n"
     ]
    },
    {
     "name": "stderr",
     "output_type": "stream",
     "text": [
      "Training: 100%|██████████| 938/938 [03:30<00:00,  4.45it/s]\n",
      "Evaluating: 100%|██████████| 79/79 [00:15<00:00,  5.09it/s]\n"
     ]
    },
    {
     "name": "stdout",
     "output_type": "stream",
     "text": [
      "Epoch 2/2 - Train Loss: 1.3039, Train Acc: 0.7122 | Test Loss: 0.7388, Test Acc: 0.7388\n",
      "--- Evaluation after INQ Step 3 Fine-tuning ---\n"
     ]
    },
    {
     "name": "stderr",
     "output_type": "stream",
     "text": [
      "Evaluating: 100%|██████████| 79/79 [00:15<00:00,  5.22it/s]\n"
     ]
    },
    {
     "name": "stdout",
     "output_type": "stream",
     "text": [
      "Final Test Loss: 1.2641, Final Test Acc: 0.7388\n",
      "\n",
      "--- INQ Procedure Completed ---\n"
     ]
    },
    {
     "name": "stderr",
     "output_type": "stream",
     "text": [
      "Evaluating: 100%|██████████| 79/79 [00:16<00:00,  4.72it/s]"
     ]
    },
    {
     "name": "stdout",
     "output_type": "stream",
     "text": [
      "Overall Final Test Loss: 1.2641, Overall Final Test Acc: 0.7388\n",
      "DEBUG: len(inq_steps_labels)=4\n",
      "DEBUG: len(accuracy_history)=4\n",
      "DEBUG: len(effective_bits_history)=4\n"
     ]
    },
    {
     "name": "stderr",
     "output_type": "stream",
     "text": [
      "\n"
     ]
    }
   ],
   "source": [
    "\n",
    "# Existing train_epoch and evaluate_model functions (ensure they are defined)\n",
    "def train_epoch(model, dataloader, optimizer, criterion, device):\n",
    "    model.train()\n",
    "    running_loss = 0.0\n",
    "    correct_predictions = 0\n",
    "    total_samples = 0\n",
    "\n",
    "    # Ensure tqdm is correctly used as an iterable on dataloader\n",
    "    for inputs, labels in tqdm(dataloader, desc=\"Training\"):\n",
    "        inputs, labels = inputs.to(device), labels.to(device)\n",
    "\n",
    "        optimizer.zero_grad()\n",
    "        outputs = model(inputs)\n",
    "        loss = criterion(outputs, labels)\n",
    "        loss.backward()\n",
    "        optimizer.step()\n",
    "\n",
    "        running_loss += loss.item() * inputs.size(0)\n",
    "        _, predicted = torch.max(outputs.data, 1)\n",
    "        total_samples += labels.size(0)\n",
    "        correct_predictions += (predicted == labels).sum().item()\n",
    "\n",
    "    epoch_loss = running_loss / total_samples\n",
    "    epoch_acc = correct_predictions / total_samples\n",
    "    return epoch_loss, epoch_acc\n",
    "\n",
    "def evaluate_model(model, dataloader, criterion, device):\n",
    "    model.eval()\n",
    "    running_loss = 0.0\n",
    "    correct_predictions = 0\n",
    "    total_samples = 0\n",
    "\n",
    "    with torch.no_grad():\n",
    "        for inputs, labels in tqdm(dataloader, desc=\"Evaluating\"):\n",
    "            inputs, labels = inputs.to(device), labels.to(device)\n",
    "            outputs = model(inputs)\n",
    "            loss = criterion(outputs, labels)\n",
    "\n",
    "            running_loss += loss.item() * inputs.size(0)\n",
    "            _, predicted = torch.max(outputs.data, 1)\n",
    "            total_samples += labels.size(0)\n",
    "            correct_predictions += (predicted == labels).sum().item()\n",
    "\n",
    "    epoch_loss = running_loss / total_samples\n",
    "    epoch_acc = correct_predictions / total_samples\n",
    "    return epoch_loss, epoch_acc\n",
    "\n",
    "def calculate_effective_bit_width(optimizer, full_precision_bits=32):\n",
    "    total_elements = 0\n",
    "    total_quantized_elements = 0\n",
    "    \n",
    "    for group in optimizer.param_groups:\n",
    "        # Check if 'weight_bits' is even defined for the group\n",
    "        if 'weight_bits' not in group or group['weight_bits'] is None:\n",
    "            continue # Skip groups not subject to quantization\n",
    "\n",
    "        for idx, p in enumerate(group['params']):\n",
    "            # Ensure p.grad is not None and T is not None before trying to use T\n",
    "            # T is the mask for trainable weights. If p.requires_grad is False, T will be None.\n",
    "            if p.requires_grad and group['Ts'][idx] is not None:\n",
    "                total_elements += p.numel()\n",
    "                # T == 0 means quantized\n",
    "                total_quantized_elements += (group['Ts'][idx] == 0).sum().item()\n",
    "    \n",
    "    if total_elements == 0:\n",
    "        # If no trainable weights or all are excluded from INQ, return full_precision_bits\n",
    "        # This handles cases like only BatchNorm layers being updated initially, or no weights being eligible.\n",
    "        return full_precision_bits \n",
    "    \n",
    "    quantized_ratio = total_quantized_elements / total_elements\n",
    "    \n",
    "    # Get the weight_bits specific to this INQ run from the optimizer's initial configuration\n",
    "    # Assuming all relevant groups have the same 'weight_bits' set by INQSGD.\n",
    "    # We can safely get it from the first group that has it, or pass it as an argument.\n",
    "    # For robustness, we can ensure the `weight_bits` argument to INQSGD was passed.\n",
    "    # The `weight_bits` variable from the main script scope is more reliable here.\n",
    "    # No, it's better to get it from the optimizer group as that's where INQScheduler gets it from.\n",
    "    # However, if some groups don't have 'weight_bits' set (e.g., if you had custom param groups),\n",
    "    # this needs to be handled. For now, we assume the `weight_bits` from the main script is the target.\n",
    "    \n",
    "    # Using the weight_bits passed into the function, which should match the intended quantization bits.\n",
    "    effective_bits = (quantized_ratio * weight_bits) + ((1 - quantized_ratio) * full_precision_bits)\n",
    "    return effective_bits\n",
    "\n",
    "\n",
    "# --- MAIN EXECUTION ---\n",
    "if __name__ == \"__main__\":\n",
    "    device = torch.device(\"cuda\" if torch.cuda.is_available() else \"cpu\")\n",
    "    print(f\"Using device: {device}\")\n",
    "\n",
    "    # 1. Data Loading and Preprocessing for MNIST\n",
    "    transform = transforms.Compose([\n",
    "        transforms.Resize(224),\n",
    "        transforms.ToTensor(),\n",
    "        transforms.Lambda(lambda x: x.repeat(3, 1, 1)), # Convert 1-channel to 3-channel\n",
    "        transforms.Normalize((0.1307,), (0.3081,)) # MNIST normalization (common values, yours was 0.1, 0.3)\n",
    "    ])\n",
    "\n",
    "    train_dataset = datasets.MNIST('./data', train=True, download=True, transform=transform)\n",
    "    test_dataset = datasets.MNIST('./data', train=False, download=True, transform=transform)\n",
    "\n",
    "    train_loader = DataLoader(train_dataset, batch_size=64, shuffle=True)\n",
    "    test_loader = DataLoader(test_dataset, batch_size=128, shuffle=False)\n",
    "\n",
    "    # 2. Model Initialization (ResNet-18)\n",
    "    model = models.resnet18(weights=models.ResNet18_Weights.DEFAULT)\n",
    "    num_ftrs = model.fc.in_features\n",
    "    model.fc = nn.Linear(num_ftrs, 10)\n",
    "    model = model.to(device)\n",
    "\n",
    "    # 3. INQ Configuration\n",
    "    iterative_steps = [0.5, 0.75, 1.0] # Quantize 50%, then 25% more, then final 25%\n",
    "    inq_strategy = \"pruning\" # or \"random\"\n",
    "    weight_bits = 4 # Example: 4-bit quantization\n",
    "    full_precision_bits = 32 # Standard float32\n",
    "\n",
    "    initial_lr = 0.01\n",
    "    optimizer = INQSGD(model.parameters(), lr=initial_lr, momentum=0.9, weight_decay=1e-4, weight_bits=weight_bits)\n",
    "    \n",
    "    for group in optimizer.param_groups:\n",
    "        group['initial_lr'] = group['lr']\n",
    "\n",
    "    inq_scheduler = INQScheduler(optimizer, iterative_steps, strategy=inq_strategy)\n",
    "\n",
    "    lr_scheduler = torch.optim.lr_scheduler.StepLR(optimizer, step_size=5, gamma=0.1)\n",
    "    \n",
    "    criterion = nn.CrossEntropyLoss()\n",
    "\n",
    "    inq_steps_labels = [\"Initial\"] + [f\"{int(s*100)}%\" for s in iterative_steps]\n",
    "    accuracy_history = []\n",
    "    effective_bits_history = []\n",
    "\n",
    "    # Initial evaluation before INQ\n",
    "    print(\"\\n--- Initial Evaluation (Full Precision) ---\")\n",
    "    loss, acc = evaluate_model(model, test_loader, criterion, device)\n",
    "    print(f\"Initial Test Loss: {loss:.4f}, Initial Test Acc: {acc:.4f}\")\n",
    "\n",
    "    # Store initial metrics\n",
    "    accuracy_history.append(acc)\n",
    "    effective_bits_history.append(full_precision_bits) # Initially all 32-bit\n",
    "\n",
    "    # INQ Training Loop\n",
    "    fine_tune_epochs_per_inq_step = 2\n",
    "\n",
    "    for inq_step_idx in range(len(iterative_steps)):\n",
    "        print(f\"\\n--- INQ Step {inq_step_idx + 1}/{len(iterative_steps)} (Quantizing {iterative_steps[inq_step_idx]*100:.0f}% of weights) ---\")\n",
    "\n",
    "        # 1. Reset LR scheduler\n",
    "        reset_lr_scheduler(lr_scheduler)\n",
    "\n",
    "        # 2. Perform weight partitioning and quantization for the current INQ step\n",
    "        inq_scheduler.step() # This calls `quantize()` internally\n",
    "\n",
    "        # Evaluate immediately after quantization (before fine-tuning)\n",
    "        print(f\"--- Evaluation after INQ Step {inq_step_idx + 1} Quantization (before fine-tuning) ---\")\n",
    "        loss_after_quant, acc_after_quant = evaluate_model(model, test_loader, criterion, device)\n",
    "        print(f\"Test Loss: {loss_after_quant:.4f}, Test Acc: {acc_after_quant:.4f}\")\n",
    "\n",
    "        # Calculate and store effective bits after quantization (this is the state at the start of fine-tuning)\n",
    "        # Note: The effective_bits_history here will reflect the bit-width *after* the quantization step\n",
    "        # and *before* the subsequent fine-tuning. If you want the bit-width *after* fine-tuning of this step,\n",
    "        # move this line after the fine-tuning loop, but the bit-width value won't change during fine-tuning.\n",
    "        current_effective_bits = calculate_effective_bit_width(optimizer, full_precision_bits)\n",
    "        print(f\"Effective Bit-width after quantization: {current_effective_bits:.2f} bits\")\n",
    "        # You only append *once* per INQ step, after fine-tuning.\n",
    "\n",
    "        # 3. Fine-tune the model\n",
    "        print(f\"--- Fine-tuning for {fine_tune_epochs_per_inq_step} epochs ---\")\n",
    "        for epoch in range(fine_tune_epochs_per_inq_step):\n",
    "            train_loss, train_acc = train_epoch(model, train_loader, optimizer, criterion, device)\n",
    "            test_loss, test_acc = evaluate_model(model, test_loader, criterion, device)\n",
    "            lr_scheduler.step() # Step the LR scheduler within the fine-tuning loop\n",
    "            print(f\"Epoch {epoch+1}/{fine_tune_epochs_per_inq_step} - Train Loss: {train_loss:.4f}, Train Acc: {train_acc:.4f} | Test Loss: {test_acc:.4f}, Test Acc: {test_acc:.4f}\") # Typo: should be Test Loss: {test_loss:.4f}\n",
    "        \n",
    "        print(f\"--- Evaluation after INQ Step {inq_step_idx + 1} Fine-tuning ---\")\n",
    "        final_loss, final_acc = evaluate_model(model, test_loader, criterion, device)\n",
    "        print(f\"Final Test Loss: {final_loss:.4f}, Final Test Acc: {final_acc:.4f}\")\n",
    "        \n",
    "        # Store accuracy and effective bits *after* fine-tuning for this step\n",
    "        accuracy_history.append(final_acc)\n",
    "        # The effective bit-width does not change during fine-tuning, only during the INQ scheduler's step().\n",
    "        # So, appending `current_effective_bits` here is correct if you want to pair it with `final_acc`.\n",
    "        effective_bits_history.append(current_effective_bits)\n",
    "\n",
    "    # --- MOVE PLOTTING CODE HERE ---\n",
    "    # This block should execute ONLY ONCE after the entire INQ loop is complete.\n",
    "    print(\"\\n--- INQ Procedure Completed ---\")\n",
    "    overall_final_test_loss, overall_final_test_acc = evaluate_model(model, test_loader, criterion, device)\n",
    "    print(f\"Overall Final Test Loss: {overall_final_test_loss:.4f}, Overall Final Test Acc: {overall_final_test_acc:.4f}\")\n",
    "\n",
    "    print(f\"DEBUG: len(inq_steps_labels)={len(inq_steps_labels)}\")\n",
    "    print(f\"DEBUG: len(accuracy_history)={len(accuracy_history)}\")\n",
    "    print(f\"DEBUG: len(effective_bits_history)={len(effective_bits_history)}\")"
   ]
  },
  {
   "cell_type": "code",
   "execution_count": 10,
   "metadata": {},
   "outputs": [
    {
     "name": "stdout",
     "output_type": "stream",
     "text": [
      "\n",
      "--- Plotting Results ---\n"
     ]
    },
    {
     "data": {
      "image/png": "[encoded data removed]",
      "text/plain": [
       "<Figure size 1000x600 with 2 Axes>"
      ]
     },
     "metadata": {},
     "output_type": "display_data"
    }
   ],
   "source": [
    "from matplotlib import pyplot as plt # Make sure this is imported\n",
    "# Plotting the results\n",
    "print(\"\\n--- Plotting Results ---\")\n",
    "\n",
    "# Ensure inq_steps_labels matches the length of the collected data\n",
    "# We collect initial + len(iterative_steps) results.\n",
    "# So `inq_steps_labels` should have `1 + len(iterative_steps)` elements.\n",
    "\n",
    "\n",
    "fig, ax1 = plt.subplots(figsize=(10, 6))\n",
    "\n",
    "color = 'tab:blue'\n",
    "ax1.set_xlabel('INQ Step')\n",
    "ax1.set_ylabel('Test Accuracy', color=color)\n",
    "ax1.plot(inq_steps_labels, accuracy_history, marker='o', linestyle='-', color=color, label='Test Accuracy')\n",
    "ax1.tick_params(axis='y', labelcolor=color)\n",
    "ax1.set_ylim(0.0, 1.0) # Accuracy range\n",
    "\n",
    "ax2 = ax1.twinx() # instantiate a second axes that shares the same x-axis\n",
    "color = 'tab:red'\n",
    "ax2.set_ylabel('Effective Bit-width', color=color)\n",
    "ax2.plot(inq_steps_labels, effective_bits_history, marker='x', linestyle='--', color=color, label='Effective Bit-width')\n",
    "ax2.tick_params(axis='y', labelcolor=color)\n",
    "# Set y-axis limits for bit-width. Max is 32, min is `weight_bits`\n",
    "ax2.set_ylim(weight_bits - 1, full_precision_bits + 1) \n",
    "\n",
    "fig.suptitle('INQ Performance: Accuracy vs. Effective Bit-width')\n",
    "fig.tight_layout() # otherwise the right y-label is slightly clipped\n",
    "\n",
    "# Add legends\n",
    "lines, labels = ax1.get_legend_handles_labels()\n",
    "lines2, labels2 = ax2.get_legend_handles_labels()\n",
    "ax2.legend(lines + lines2, labels + labels2, loc='lower right')\n",
    "\n",
    "plt.grid(True)\n",
    "plt.show()"
   ]
  }
 ],
 "metadata": {
  "kernelspec": {
   "display_name": "my_env",
   "language": "python",
   "name": "python3"
  },
  "language_info": {
   "codemirror_mode": {
    "name": "ipython",
    "version": 3
   },
   "file_extension": ".py",
   "mimetype": "text/x-python",
   "name": "python",
   "nbconvert_exporter": "python",
   "pygments_lexer": "ipython3",
   "version": "3.11.8"
  }
 },
 "nbformat": 4,
 "nbformat_minor": 2
}
